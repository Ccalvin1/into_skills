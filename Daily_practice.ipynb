{
 "cells": [
  {
   "cell_type": "code",
   "execution_count": 1,
   "id": "a0aedd2f-58aa-46f3-9a10-04559b00f39b",
   "metadata": {},
   "outputs": [
    {
     "ename": "NameError",
     "evalue": "name 'boolean' is not defined",
     "output_type": "error",
     "traceback": [
      "\u001b[0;31m---------------------------------------------------------------------------\u001b[0m",
      "\u001b[0;31mNameError\u001b[0m                                 Traceback (most recent call last)",
      "Cell \u001b[0;32mIn[1], line 2\u001b[0m\n\u001b[1;32m      1\u001b[0m \u001b[38;5;66;03m# Give 4 data types\u001b[39;00m\n\u001b[0;32m----> 2\u001b[0m \u001b[43mboolean\u001b[49m\n\u001b[1;32m      3\u001b[0m string\n\u001b[1;32m      4\u001b[0m integer\n",
      "\u001b[0;31mNameError\u001b[0m: name 'boolean' is not defined"
     ]
    }
   ],
   "source": [
    "# Give 4 data types\n",
    "boolean\n",
    "string\n",
    "integer\n",
    "float"
   ]
  },
  {
   "cell_type": "code",
   "execution_count": null,
   "id": "3e4ef6c1-36e8-4dfd-9abd-3a94615da575",
   "metadata": {},
   "outputs": [],
   "source": [
    "# Give 5 examples of an integer \n",
    "5\n",
    "9\n",
    "3\n",
    "4\n",
    "10"
   ]
  },
  {
   "cell_type": "code",
   "execution_count": null,
   "id": "2f52df62-949c-44b0-ac8b-efa0839466a1",
   "metadata": {},
   "outputs": [],
   "source": [
    "# Give 5 examples of a Boolean\n",
    "True\n",
    "False\n",
    "Not True\n",
    "Not False\n"
   ]
  },
  {
   "cell_type": "code",
   "execution_count": null,
   "id": "c24282ba-433d-459a-b298-01354c5e29a7",
   "metadata": {},
   "outputs": [],
   "source": [
    "# Give 5 examples of a Float\n",
    ".005\n",
    ".5\n",
    ".20\n",
    "-.8\n",
    ".23\n"
   ]
  },
  {
   "cell_type": "code",
   "execution_count": null,
   "id": "afa02b72-72c5-4e64-ad2a-830993183bc2",
   "metadata": {},
   "outputs": [],
   "source": [
    "# Give 5 examples of a String\n",
    "\"Hello\"\n",
    "\"hi\"\n",
    "\"not now\"\n",
    "\"bye\"\n",
    "\"trying\""
   ]
  },
  {
   "cell_type": "code",
   "execution_count": 3,
   "id": "30cbda78-2801-421d-bf01-bf8f695b9721",
   "metadata": {},
   "outputs": [
    {
     "name": "stdout",
     "output_type": "stream",
     "text": [
      "<class 'int'>\n",
      "<class 'str'>\n",
      "<class 'bool'>\n",
      "<class 'float'>\n"
     ]
    }
   ],
   "source": [
    "#Find the Data type of all 5 data type\n",
    "print(type(5))\n",
    "print(type(\"hello\"))\n",
    "print(type(True))\n",
    "print(type(.4))"
   ]
  },
  {
   "cell_type": "code",
   "execution_count": 6,
   "id": "75e8f865-6468-4ec6-b22b-1782515cb68a",
   "metadata": {},
   "outputs": [
    {
     "name": "stdout",
     "output_type": "stream",
     "text": [
      "5\n",
      "16\n",
      "2.5\n",
      "4\n",
      "True\n"
     ]
    }
   ],
   "source": [
    "#Print 5 different equations.  \n",
    "a = 4 + 1\n",
    "print(a)\n",
    "\n",
    "result = 4 * 4\n",
    "print(result)\n",
    "\n",
    "solution = 5/2\n",
    "print(solution)\n",
    "\n",
    "b = 7 - 3\n",
    "print(b)\n",
    "\n",
    "answer = 4 < 5 \n",
    "print(answer)\n"
   ]
  },
  {
   "cell_type": "code",
   "execution_count": null,
   "id": "37aa0040-747d-4821-9de4-69bfcf9e4a24",
   "metadata": {},
   "outputs": [],
   "source": [
    "#What is the index of a list?\n",
    "\n",
    "A number labeling each element in order."
   ]
  },
  {
   "cell_type": "code",
   "execution_count": null,
   "id": "74bdd326-517a-48c5-aa13-31892a1682a2",
   "metadata": {},
   "outputs": [],
   "source": [
    "What is a variable? \n",
    "Something that can be assigned a number or something else."
   ]
  },
  {
   "cell_type": "code",
   "execution_count": null,
   "id": "81e5c2e0-a753-45be-ba90-b871cd8e2de8",
   "metadata": {},
   "outputs": [],
   "source": [
    "# Use input function for the following questions and print a response … Collect the user’s name\n"
   ]
  },
  {
   "cell_type": "code",
   "execution_count": 7,
   "id": "66945b9d-3686-4535-a8f7-b14201a89cb7",
   "metadata": {},
   "outputs": [
    {
     "name": "stdin",
     "output_type": "stream",
     "text": [
      "What is your name? sam\n"
     ]
    }
   ],
   "source": [
    "#Collect the user’s name\n",
    "\n",
    "Name = input(\"What is your name?\")"
   ]
  },
  {
   "cell_type": "code",
   "execution_count": 9,
   "id": "d383c2a7-1235-4d2b-ac02-bd81faa09f54",
   "metadata": {},
   "outputs": [
    {
     "name": "stdin",
     "output_type": "stream",
     "text": [
      "So, what is your favorite color? blue\n"
     ]
    }
   ],
   "source": [
    "#Find out their favorite color\n",
    "\n",
    "Fav_Color = input(\"So, what is your favorite color?\")"
   ]
  },
  {
   "cell_type": "code",
   "execution_count": 10,
   "id": "349bd380-29c7-43dc-861f-e0721bf36871",
   "metadata": {},
   "outputs": [
    {
     "name": "stdin",
     "output_type": "stream",
     "text": [
      "Please provide your email address. sam@yahoo.com\n"
     ]
    }
   ],
   "source": [
    "#Get their email address\n",
    "\n",
    "users_email = input(\"Please provide your email address.\")\n"
   ]
  },
  {
   "cell_type": "code",
   "execution_count": 13,
   "id": "800444a5-b31f-4861-a137-1359ac158d12",
   "metadata": {},
   "outputs": [
    {
     "name": "stdin",
     "output_type": "stream",
     "text": [
      "Did you pay your taxes in 22023? yes\n"
     ]
    }
   ],
   "source": [
    "#Did they pay taxes in 2023?\n",
    "\n",
    "taxes_paid = input(\"Did you pay your taxes in 22023?\")"
   ]
  },
  {
   "cell_type": "code",
   "execution_count": 14,
   "id": "d9ccbcb2-1ede-4e8a-9c7c-adc41e7206d8",
   "metadata": {},
   "outputs": [
    {
     "name": "stdin",
     "output_type": "stream",
     "text": [
      "Would you like to subscribe to our newsletter? no thanks\n"
     ]
    }
   ],
   "source": [
    "#Will they subscribe to email list?\n",
    "\n",
    "Subscription_request = input(\"Would you like to subscribe to our newsletter?\")\n"
   ]
  },
  {
   "cell_type": "code",
   "execution_count": 18,
   "id": "6aceb421-8c9d-4882-866c-9bbd19a36857",
   "metadata": {},
   "outputs": [
    {
     "name": "stdout",
     "output_type": "stream",
     "text": [
      "Hello, sam it's nice to meet you\n",
      "blue is your favorite color? Mine too!\n",
      "Thank you for providing us with your email at sam@yahoo.com.\n"
     ]
    }
   ],
   "source": [
    "#Use F-string function to respond to their input in the above questions.\n",
    "\n",
    "print(f\"Hello, {Name} it's nice to meet you\")\n",
    "print(f\"{Fav_Color} is your favorite color? Mine too!\")\n",
    "print(f\"Thank you for providing us with your email at {users_email}.\")\n"
   ]
  },
  {
   "cell_type": "code",
   "execution_count": 20,
   "id": "8d541fe7-fd51-46ec-8a07-17feaf137893",
   "metadata": {},
   "outputs": [
    {
     "name": "stdout",
     "output_type": "stream",
     "text": [
      "I see that you said yes,let us know if we can help you with this years taxes\n",
      "You replied no thanks to our subscription request\n"
     ]
    }
   ],
   "source": [
    "print(f\"I see that you said {taxes_paid},let us know if we can help you with this years taxes\")\n",
    "print(f\"You replied {Subscription_request} to our subscription request\")"
   ]
  },
  {
   "cell_type": "code",
   "execution_count": 26,
   "id": "319842ec-bc78-4a3e-9bbb-c0c5fbf0627b",
   "metadata": {},
   "outputs": [
    {
     "name": "stdout",
     "output_type": "stream",
     "text": [
      "<class 'str'>\n",
      "<class 'int'>\n",
      "<class 'float'>\n",
      "<class 'bool'>\n"
     ]
    }
   ],
   "source": [
    "#Identify the data type\n",
    "\n",
    "name = \"Tommy\"\n",
    "age =  41\n",
    "weight = 140.5 \n",
    "college_graduate = True\n",
    "\n",
    "print(type(name))\n",
    "print(type(age))\n",
    "print(type(weight))\n",
    "print(type(college_graduate))\n"
   ]
  },
  {
   "cell_type": "code",
   "execution_count": 44,
   "id": "bf63a2a9-4824-449d-b7d4-87b54e2cca63",
   "metadata": {},
   "outputs": [
    {
     "name": "stdout",
     "output_type": "stream",
     "text": [
      "41.0\n",
      "140\n",
      "True\n"
     ]
    }
   ],
   "source": [
    "#change the data type by type cast\n",
    "\n",
    "name = \"Tommy\"\n",
    "age =  41\n",
    "weight = 140.5\n",
    "college_graduate = True\n",
    "\n",
    "\n",
    "age = float(age)\n",
    "print(age)\n",
    "\n",
    "weight = int(weight)\n",
    "print(weight)\n",
    "\n",
    "college_graduate = str(college_graduate)\n",
    "print(college_graduate)"
   ]
  },
  {
   "cell_type": "code",
   "execution_count": 43,
   "id": "13f5a9cb-d61f-4ebb-a6fd-1ea5873b1e09",
   "metadata": {},
   "outputs": [],
   "source": [
    "#Give 2 exp of an expression"
   ]
  },
  {
   "cell_type": "code",
   "execution_count": null,
   "id": "457bd51c-d30e-4ffe-a657-3e2c12eb39f6",
   "metadata": {},
   "outputs": [],
   "source": [
    "#Give 2 exp of a condition"
   ]
  },
  {
   "cell_type": "code",
   "execution_count": 39,
   "id": "91a6ff67-992e-4b35-9e42-dd43a6f5f03f",
   "metadata": {},
   "outputs": [
    {
     "name": "stdin",
     "output_type": "stream",
     "text": [
      "How old are you? 12\n"
     ]
    },
    {
     "name": "stdout",
     "output_type": "stream",
     "text": [
      "sorry you are not old enough\n"
     ]
    }
   ],
   "source": [
    "#Give 3 examples of If, else, else-if conditional statements. \n",
    "age = input(\"How old are you?\")\n",
    "age = int(age)\n",
    "if age < 18:\n",
    "    print(\"sorry you are not old enough\")\n",
    "\n",
    "elif age == 18:\n",
    "    print:(\"You just made the age limit, come on in\")\n",
    "\n",
    "else:\n",
    "    print(\"Welcome in.\")\n",
    "\n"
   ]
  },
  {
   "cell_type": "code",
   "execution_count": 52,
   "id": "415701c3-210b-49ff-9415-618622e3b5ea",
   "metadata": {},
   "outputs": [
    {
     "name": "stdin",
     "output_type": "stream",
     "text": [
      "Hi, how old are you? 2\n"
     ]
    }
   ],
   "source": [
    "# Write get_age function here\n",
    "\n",
    "def get_age ():\n",
    "    age = input(\"Hi, how old are you?\")\n",
    "\n",
    "\n",
    "get_age()"
   ]
  },
  {
   "cell_type": "code",
   "execution_count": 47,
   "id": "42f4ac4a-fe6f-4fbb-aa8c-36e2cc253e84",
   "metadata": {},
   "outputs": [
    {
     "ename": "IndentationError",
     "evalue": "unexpected indent (1172841393.py, line 3)",
     "output_type": "error",
     "traceback": [
      "\u001b[0;36m  Cell \u001b[0;32mIn[47], line 3\u001b[0;36m\u001b[0m\n\u001b[0;31m    Def get_name\u001b[0m\n\u001b[0m    ^\u001b[0m\n\u001b[0;31mIndentationError\u001b[0m\u001b[0;31m:\u001b[0m unexpected indent\n"
     ]
    }
   ],
   "source": [
    "# Define these 4 different functions\n",
    "    \n",
    "     Def get_name\n",
    "     Def get_height\n",
    "     Def get_fav_color\n",
    "     Def hometown"
   ]
  },
  {
   "cell_type": "code",
   "execution_count": null,
   "id": "29e362dc-50f7-4ea3-87fb-c13d000e06d4",
   "metadata": {},
   "outputs": [],
   "source": [
    "# Ask the user for 3 numbers, add them all together & print out the sum. \n",
    "\n",
    "num1 = input(\"Pick a number\")\n",
    "num2 = input(\"pick another number\") \n",
    "num3 = input(\"pick a third number\")\n",
    "final_number = (num1 + num2 + num3)\n",
    "print(final_number)\n"
   ]
  },
  {
   "cell_type": "code",
   "execution_count": null,
   "id": "33404367-7f03-45f8-b19b-4fc941b7d415",
   "metadata": {},
   "outputs": [],
   "source": [
    "# Create a list and print the first item on the list. \n",
    "\n",
    "days_of_attendance = [12, 9, 7, 11]\n",
    "print(days_of_attendance(0))\n"
   ]
  },
  {
   "cell_type": "code",
   "execution_count": null,
   "id": "2dfa6b8a-69af-4bf5-9c07-5354193f822a",
   "metadata": {},
   "outputs": [],
   "source": [
    "#print the 2nd item\n",
    "print(days_of_attendance(1))"
   ]
  },
  {
   "cell_type": "code",
   "execution_count": null,
   "id": "94b5970f-4642-4567-8ff4-60a6c47fd9fa",
   "metadata": {},
   "outputs": [],
   "source": [
    "#print the 3rd item on the list\n",
    "print(days_of_attendance(2))"
   ]
  },
  {
   "cell_type": "code",
   "execution_count": null,
   "id": "09e623a7-a44f-46bb-bf8d-b1c5f058fb32",
   "metadata": {},
   "outputs": [],
   "source": [
    "#Append an additional item to the list\n",
    "print (days_of_attendance).append (4)"
   ]
  },
  {
   "cell_type": "code",
   "execution_count": null,
   "id": "10bc5084-b1aa-4fa8-bacf-caa5eb5505f9",
   "metadata": {},
   "outputs": [],
   "source": [
    "#print the appended item"
   ]
  },
  {
   "cell_type": "code",
   "execution_count": null,
   "id": "98a9cd65-aa77-4dda-bef6-49867038a829",
   "metadata": {},
   "outputs": [],
   "source": [
    "#remove the last item from the list"
   ]
  },
  {
   "cell_type": "code",
   "execution_count": null,
   "id": "c6e59fc2-b4d3-49c4-b488-f33936250c32",
   "metadata": {},
   "outputs": [],
   "source": [
    "#write a function that defines a parameter"
   ]
  },
  {
   "cell_type": "code",
   "execution_count": null,
   "id": "cfe80002-d7f4-481f-9ab7-61d7bd57e7a9",
   "metadata": {},
   "outputs": [],
   "source": [
    "# print the length of the following strings\n",
    "\n",
    "mississippi\n",
    "considering\n",
    "alaska\n",
    "enterprise\n",
    "micro-manage"
   ]
  },
  {
   "cell_type": "code",
   "execution_count": null,
   "id": "1c945ef5-1f70-49db-a09e-36a9a771a824",
   "metadata": {},
   "outputs": [],
   "source": [
    "#print loop "
   ]
  },
  {
   "cell_type": "code",
   "execution_count": 55,
   "id": "20848f02-8213-4e90-ab96-8ade1b22a0c2",
   "metadata": {},
   "outputs": [
    {
     "data": {
      "text/plain": [
       "10"
      ]
     },
     "execution_count": 55,
     "metadata": {},
     "output_type": "execute_result"
    }
   ],
   "source": [
    "#Get three numbers from users and add them together\n",
    "def get_num(num1, num2, num3):\n",
    "    solution = num1 + num2 + num3\n",
    "    return solution\n",
    "\n",
    "get_num(6, 2, 2)\n"
   ]
  },
  {
   "cell_type": "code",
   "execution_count": 53,
   "id": "aab26fa3-a295-42ea-a3d4-e5453fe554bc",
   "metadata": {},
   "outputs": [
    {
     "data": {
      "text/plain": [
       "10"
      ]
     },
     "execution_count": 53,
     "metadata": {},
     "output_type": "execute_result"
    }
   ],
   "source": [
    "def add_three_nums(num1, num2, num3):\n",
    "    calculated_num = num1 + num2 + num3\n",
    "    return solution\n",
    "\n",
    "int(calculated_num(3,5,2))\n"
   ]
  },
  {
   "cell_type": "code",
   "execution_count": 57,
   "id": "124790bc-143e-4138-b4ae-7478fe47ef5a",
   "metadata": {},
   "outputs": [
    {
     "name": "stdout",
     "output_type": "stream",
     "text": [
      "The result is:10.\n",
      "This time, the result is 3\n",
      "<class 'int'>\n"
     ]
    }
   ],
   "source": [
    "calculated_num = add_three_nums(3, 5, 2)\n",
    "\n",
    "print(f\"The result is:{calculated_num}.\")\n",
    "\n",
    "print(f\"This time, the result is {add_three_nums(1, 1, 1)}\")\n",
    "\n",
    "print(type(add_three_nums(1, 2, 2)))"
   ]
  },
  {
   "cell_type": "code",
   "execution_count": 58,
   "id": "250d6ce3-dbf7-41f5-9afe-55e3779434b0",
   "metadata": {},
   "outputs": [
    {
     "name": "stdout",
     "output_type": "stream",
     "text": [
      "Right now, the variable name color equals red.\n",
      "Right now, the variable name color equals blue.\n",
      "Right now, the variable name color equals green.\n",
      "Right now, the variable name color equals purple.\n"
     ]
    }
   ],
   "source": [
    "for color in [\"red\", \"blue\", \"green\", \"purple\"]:\n",
    "    print(f\"Right now, the variable name color equals {color}.\")\n",
    "    "
   ]
  },
  {
   "cell_type": "code",
   "execution_count": 60,
   "id": "589420cd-0b5d-4d63-9dd7-64dcd4116a4a",
   "metadata": {},
   "outputs": [
    {
     "name": "stdout",
     "output_type": "stream",
     "text": [
      " In my lifetime I have owned a cocker spaniel.\n",
      " In my lifetime I have owned a pom.\n",
      " In my lifetime I have owned a doberman.\n",
      " In my lifetime I have owned a great dane.\n"
     ]
    }
   ],
   "source": [
    "for dogs in [\"cocker spaniel\", \"pom\", \"doberman\", \"great dane\"]:\n",
    "    print(f\" In my lifetime I have owned a {dogs}.\")\n",
    "\n"
   ]
  },
  {
   "cell_type": "code",
   "execution_count": 61,
   "id": "bf105125-e36a-4a0d-a4b8-5b98f748f841",
   "metadata": {},
   "outputs": [
    {
     "name": "stdout",
     "output_type": "stream",
     "text": [
      "The letter in this statement is H.\n",
      "The letter in this statement is e.\n",
      "The letter in this statement is l.\n",
      "The letter in this statement is l.\n",
      "The letter in this statement is o.\n",
      "The letter in this statement is ,.\n",
      "The letter in this statement is  .\n",
      "The letter in this statement is C.\n",
      "The letter in this statement is l.\n",
      "The letter in this statement is a.\n",
      "The letter in this statement is s.\n",
      "The letter in this statement is s.\n",
      "The letter in this statement is ..\n"
     ]
    }
   ],
   "source": [
    "for char in \"Hello, Class.\":\n",
    "    print(f\"The letter in this statement is {char}.\")\n",
    "    "
   ]
  },
  {
   "cell_type": "code",
   "execution_count": 64,
   "id": "2ba14644-4e09-45c7-9b65-803da477d61c",
   "metadata": {},
   "outputs": [
    {
     "name": "stdout",
     "output_type": "stream",
     "text": [
      " One cousin is 12 years old.\n",
      "They are younger than me\n",
      "\n",
      " One cousin is 15 years old.\n",
      "They are younger than me\n",
      "\n",
      " One cousin is 28 years old.\n",
      "They are older than me\n",
      "\n",
      " One cousin is 39 years old.\n",
      "They are older than me\n",
      "\n"
     ]
    }
   ],
   "source": [
    "for cousin_age in [12, 15, 28, 39]:\n",
    "    print(f\" One cousin is {cousin_age} years old.\")\n",
    "    my_age = 24\n",
    "    if cousin_age < my_age:\n",
    "        print(\"They are younger than me\")\n",
    "    else:\n",
    "        print(\"They are older than me\")\n",
    "    print()"
   ]
  },
  {
   "cell_type": "code",
   "execution_count": 73,
   "id": "d5eee1f6-ab8e-45ee-aa1a-4c3dd1d3a8f3",
   "metadata": {},
   "outputs": [
    {
     "name": "stdout",
     "output_type": "stream",
     "text": [
      "Tom is 4 years old.\n",
      "Billy is 9 years old.\n",
      "Phil is 10 years old.\n"
     ]
    }
   ],
   "source": [
    "cousins = [[\"Tom\", 4], [\"Billy\", 9], [\"Phil\", 10]]\n",
    "  #  print(f\"Cousin {cousins} is here.\")\n",
    "for name, age in cousins:\n",
    "    print(f\"{name} is {age} years old.\")\n",
    "        "
   ]
  },
  {
   "cell_type": "code",
   "execution_count": 74,
   "id": "3c30d5a3-3191-42e1-9498-344d5cd27931",
   "metadata": {},
   "outputs": [
    {
     "name": "stdout",
     "output_type": "stream",
     "text": [
      "0\n",
      "1\n",
      "2\n",
      "3\n",
      "4\n",
      "5\n",
      "6\n",
      "7\n",
      "8\n"
     ]
    }
   ],
   "source": [
    "#Loop through numbers starting from 0 and ending before 9\n",
    "\n",
    "for num in range(9):\n",
    "    print(num)\n",
    "    "
   ]
  },
  {
   "cell_type": "code",
   "execution_count": 76,
   "id": "c3e1c071-591d-482c-96cf-efafc20b5852",
   "metadata": {},
   "outputs": [
    {
     "name": "stdout",
     "output_type": "stream",
     "text": [
      "['California']\n"
     ]
    }
   ],
   "source": [
    "states = [\"Georgia\"], [\"Florida\"], [\"California\"]\n",
    "print(states[2])"
   ]
  },
  {
   "cell_type": "code",
   "execution_count": 78,
   "id": "64b59148-4df9-44ff-82b2-4eb48098051f",
   "metadata": {},
   "outputs": [
    {
     "name": "stdout",
     "output_type": "stream",
     "text": [
      "Florida\n"
     ]
    }
   ],
   "source": [
    "print([\"Georgia\", \"Florida\", \"California\"][1])\n"
   ]
  },
  {
   "cell_type": "code",
   "execution_count": null,
   "id": "3aaeed7c-fc2a-401c-a1af-7a73be24cf1c",
   "metadata": {},
   "outputs": [],
   "source": []
  }
 ],
 "metadata": {
  "kernelspec": {
   "display_name": "Python 3 (ipykernel)",
   "language": "python",
   "name": "python3"
  },
  "language_info": {
   "codemirror_mode": {
    "name": "ipython",
    "version": 3
   },
   "file_extension": ".py",
   "mimetype": "text/x-python",
   "name": "python",
   "nbconvert_exporter": "python",
   "pygments_lexer": "ipython3",
   "version": "3.10.14"
  }
 },
 "nbformat": 4,
 "nbformat_minor": 5
}
